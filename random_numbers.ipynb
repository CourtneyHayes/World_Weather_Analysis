{
 "cells": [
  {
   "cell_type": "code",
   "execution_count": 10,
   "id": "94813251-9884-40ef-b344-b491a2132f19",
   "metadata": {},
   "outputs": [],
   "source": [
    "# Import the random module\n",
    "import random"
   ]
  },
  {
   "cell_type": "code",
   "execution_count": 11,
   "id": "ca14652b-a9fc-496c-ad9d-f2e4c3480d5a",
   "metadata": {},
   "outputs": [
    {
     "data": {
      "text/plain": [
       "81"
      ]
     },
     "execution_count": 11,
     "metadata": {},
     "output_type": "execute_result"
    }
   ],
   "source": [
    "random.randint(-90, 90)"
   ]
  },
  {
   "cell_type": "code",
   "execution_count": 12,
   "id": "baf8a220-4c60-42ff-9c46-a8f5695251ff",
   "metadata": {},
   "outputs": [
    {
     "data": {
      "text/plain": [
       "0.030343732092344977"
      ]
     },
     "execution_count": 12,
     "metadata": {},
     "output_type": "execute_result"
    }
   ],
   "source": [
    "random.random()"
   ]
  },
  {
   "cell_type": "code",
   "execution_count": 14,
   "id": "e09a4896-3c73-4849-99ec-6a84f075aa11",
   "metadata": {},
   "outputs": [],
   "source": [
    "x = 1\n",
    "latitudes = []\n",
    "while x < 11:\n",
    "    random_lat = random.randint(-90, 89) + random.random()\n",
    "    latitudes.append(random_lat)\n",
    "    x += 1"
   ]
  },
  {
   "cell_type": "code",
   "execution_count": 16,
   "id": "62973e77-4e5e-49c6-8783-78a7a73ca833",
   "metadata": {},
   "outputs": [
    {
     "data": {
      "text/plain": [
       "-17"
      ]
     },
     "execution_count": 16,
     "metadata": {},
     "output_type": "execute_result"
    }
   ],
   "source": [
    "random.randrange(-90, 90, step=1)"
   ]
  },
  {
   "cell_type": "code",
   "execution_count": 18,
   "id": "131f39d4-0589-4ef8-bd6b-d29eb87f38d0",
   "metadata": {},
   "outputs": [
    {
     "data": {
      "text/plain": [
       "-90"
      ]
     },
     "execution_count": 18,
     "metadata": {},
     "output_type": "execute_result"
    }
   ],
   "source": [
    "random.randrange(-90, 90, step=3)"
   ]
  },
  {
   "cell_type": "code",
   "execution_count": 20,
   "id": "4c0a511a-f8c9-43ba-858c-6dd079c87269",
   "metadata": {},
   "outputs": [
    {
     "data": {
      "text/plain": [
       "69.26457443583993"
      ]
     },
     "execution_count": 20,
     "metadata": {},
     "output_type": "execute_result"
    }
   ],
   "source": [
    "random.uniform(-90, 90)"
   ]
  },
  {
   "cell_type": "code",
   "execution_count": 22,
   "id": "452b3a6c-9c65-4356-9ae6-7e0c08c7f9dc",
   "metadata": {},
   "outputs": [],
   "source": [
    "# Import the Numpy module\n",
    "import numpy as np"
   ]
  },
  {
   "cell_type": "code",
   "execution_count": 25,
   "id": "8444af75-a36b-4bac-9821-55a4cf73d067",
   "metadata": {},
   "outputs": [
    {
     "data": {
      "text/plain": [
       "-57.99429679124152"
      ]
     },
     "execution_count": 25,
     "metadata": {},
     "output_type": "execute_result"
    }
   ],
   "source": [
    "np.random.uniform(-90., 90.)"
   ]
  },
  {
   "cell_type": "code",
   "execution_count": 27,
   "id": "0bc090c0-006f-4ce7-9201-93e8ce3ce37f",
   "metadata": {},
   "outputs": [
    {
     "data": {
      "text/plain": [
       "array([ 4.44727806e+01, -8.34133800e+00,  5.86199405e+01, -3.60515177e+01,\n",
       "        6.09365219e+01,  2.37467246e+01,  1.26201082e+01, -5.53132490e+01,\n",
       "       -8.93962656e+01, -7.89474654e+01,  6.08934640e+01,  8.75094769e+01,\n",
       "       -2.91569134e+01, -5.45276733e+01, -5.32747422e+01,  4.66232658e+01,\n",
       "       -1.43481053e+01, -7.35274522e+01,  1.97975502e+01, -4.51543876e+01,\n",
       "        8.37131866e+01,  4.16893953e+01,  1.44751241e+01, -6.59501691e+00,\n",
       "        6.80234653e+01,  1.54515420e+01, -3.74486503e+01, -6.16944147e-02,\n",
       "        5.59094158e+01,  5.32980221e+01, -3.13372722e+01, -2.93680813e+01,\n",
       "        8.44844049e+01,  6.31826292e+01, -7.23413758e+01,  6.76062784e+01,\n",
       "       -4.23929071e+01, -2.87867088e+01,  2.97270459e+01,  9.78778908e+00,\n",
       "        6.06536999e+01, -5.79053349e+01,  4.15785139e+00,  5.16976038e+00,\n",
       "       -8.13963745e+01, -1.39084343e+01, -6.24010353e+01,  6.70976779e+01,\n",
       "        5.76808782e+01,  3.01524381e+01])"
      ]
     },
     "execution_count": 27,
     "metadata": {},
     "output_type": "execute_result"
    }
   ],
   "source": [
    "np.random.uniform(-90.000, 90.000, size=50)"
   ]
  },
  {
   "cell_type": "code",
   "execution_count": 29,
   "id": "2da35315-cc94-4211-9b35-8588e3faf983",
   "metadata": {},
   "outputs": [],
   "source": [
    "# Import timeit\n",
    "import timeit"
   ]
  },
  {
   "cell_type": "code",
   "execution_count": 31,
   "id": "1e7f0bb4-5f0b-46bd-9ba7-4cd9ca0086f0",
   "metadata": {},
   "outputs": [
    {
     "name": "stdout",
     "output_type": "stream",
     "text": [
      "33 µs ± 5.68 µs per loop (mean ± std. dev. of 7 runs, 10,000 loops each)\n"
     ]
    }
   ],
   "source": [
    "%timeit np.random.uniform(-90.000, 90.000, size=1500)"
   ]
  },
  {
   "cell_type": "code",
   "execution_count": 32,
   "id": "2267da60-6269-47bd-ac94-9a70121f1d79",
   "metadata": {},
   "outputs": [
    {
     "name": "stdout",
     "output_type": "stream",
     "text": [
      "2.66 ms ± 124 µs per loop (mean ± std. dev. of 7 runs, 100 loops each)\n"
     ]
    }
   ],
   "source": [
    "def latitudes(size):\n",
    "    latitudes = []\n",
    "    x = 0\n",
    "    while x < (size):\n",
    "        random_lat = random.randint(-90, 90) + random.random()\n",
    "        latitudes.append(random_lat)\n",
    "        x += 1\n",
    "    return latitudes\n",
    "# Call the function with 1500.\n",
    "%timeit latitudes(1500)"
   ]
  }
 ],
 "metadata": {
  "kernelspec": {
   "display_name": "Python 3 (ipykernel)",
   "language": "python",
   "name": "python3"
  },
  "language_info": {
   "codemirror_mode": {
    "name": "ipython",
    "version": 3
   },
   "file_extension": ".py",
   "mimetype": "text/x-python",
   "name": "python",
   "nbconvert_exporter": "python",
   "pygments_lexer": "ipython3",
   "version": "3.9.12"
  }
 },
 "nbformat": 4,
 "nbformat_minor": 5
}
